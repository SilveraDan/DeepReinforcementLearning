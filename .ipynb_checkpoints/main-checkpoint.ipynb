{
 "cells": [
  {
   "cell_type": "code",
   "id": "initial_id",
   "metadata": {
    "collapsed": true,
    "ExecuteTime": {
     "end_time": "2024-07-18T14:43:17.476115Z",
     "start_time": "2024-07-18T14:43:17.459570Z"
    }
   },
   "source": [
    "import algorithmes as al\n",
    "import environnement as en\n",
    "from utils import load_config"
   ],
   "outputs": [],
   "execution_count": 15
  },
  {
   "metadata": {
    "ExecuteTime": {
     "end_time": "2024-07-18T14:43:17.746194Z",
     "start_time": "2024-07-18T14:43:17.733983Z"
    }
   },
   "cell_type": "code",
   "source": "congig_file = \"config.yaml\"",
   "id": "4724dc99beb91cbe",
   "outputs": [],
   "execution_count": 16
  },
  {
   "metadata": {},
   "cell_type": "markdown",
   "source": "# LineWorld Environnement",
   "id": "6d0134907eae0680"
  },
  {
   "metadata": {},
   "cell_type": "markdown",
   "source": "## Create LineWorld environnement",
   "id": "5a6a3c9db55068aa"
  },
  {
   "metadata": {
    "ExecuteTime": {
     "end_time": "2024-07-18T14:43:18.683260Z",
     "start_time": "2024-07-18T14:43:18.666084Z"
    }
   },
   "cell_type": "code",
   "source": "config_lineworld = load_config(congig_file, \"LineWorld\")",
   "id": "de8834985fbb2b56",
   "outputs": [],
   "execution_count": 17
  },
  {
   "metadata": {
    "ExecuteTime": {
     "end_time": "2024-07-18T14:43:18.963702Z",
     "start_time": "2024-07-18T14:43:18.956216Z"
    }
   },
   "cell_type": "code",
   "source": [
    "S = config_lineworld[\"states\"]\n",
    "A = config_lineworld[\"actions\"]\n",
    "R = config_lineworld[\"rewards\"]\n",
    "T = config_lineworld[\"terminals\"]"
   ],
   "id": "7e872c3d22c44f60",
   "outputs": [],
   "execution_count": 18
  },
  {
   "metadata": {
    "ExecuteTime": {
     "end_time": "2024-07-18T14:43:19.271229Z",
     "start_time": "2024-07-18T14:43:19.266287Z"
    }
   },
   "cell_type": "code",
   "source": "lineworld_mdp = en.createLineWorld(S, A, R)",
   "id": "81ba099a53929f91",
   "outputs": [],
   "execution_count": 19
  },
  {
   "metadata": {},
   "cell_type": "markdown",
   "source": "## Dynamic Programming",
   "id": "c7aa5d908c0b6de3"
  },
  {
   "metadata": {},
   "cell_type": "markdown",
   "source": "### Policy Iteration",
   "id": "d48dd802abcfecc6"
  },
  {
   "metadata": {
    "ExecuteTime": {
     "end_time": "2024-07-18T14:43:35.705332Z",
     "start_time": "2024-07-18T14:43:35.688672Z"
    }
   },
   "cell_type": "code",
   "source": "lineworld_mdp",
   "id": "a762e1b2d95d6fe9",
   "outputs": [],
   "execution_count": 21
  },
  {
   "metadata": {
    "ExecuteTime": {
     "end_time": "2024-07-18T14:43:20.824169Z",
     "start_time": "2024-07-18T14:43:20.803588Z"
    }
   },
   "cell_type": "code",
   "source": "optimal_policy, optimal_value_function = al.policy_iteration(lineworld_mdp, S, A, R)",
   "id": "c82703c8a3d27776",
   "outputs": [
    {
     "ename": "TypeError",
     "evalue": "'NoneType' object is not subscriptable",
     "output_type": "error",
     "traceback": [
      "\u001B[1;31m---------------------------------------------------------------------------\u001B[0m",
      "\u001B[1;31mTypeError\u001B[0m                                 Traceback (most recent call last)",
      "Cell \u001B[1;32mIn[20], line 1\u001B[0m\n\u001B[1;32m----> 1\u001B[0m optimal_policy, optimal_value_function \u001B[38;5;241m=\u001B[39m \u001B[43mal\u001B[49m\u001B[38;5;241;43m.\u001B[39;49m\u001B[43mpolicy_iteration\u001B[49m\u001B[43m(\u001B[49m\u001B[43mlineworld_mdp\u001B[49m\u001B[43m,\u001B[49m\u001B[43m \u001B[49m\u001B[43mS\u001B[49m\u001B[43m,\u001B[49m\u001B[43m \u001B[49m\u001B[43mA\u001B[49m\u001B[43m,\u001B[49m\u001B[43m \u001B[49m\u001B[43mR\u001B[49m\u001B[43m)\u001B[49m\n",
      "File \u001B[1;32m~\\Documents\\PycharmProjects\\DeepReinforcementLearning\\algorithmes.py:38\u001B[0m, in \u001B[0;36mpolicy_iteration\u001B[1;34m(P, S, A, R, gamma)\u001B[0m\n\u001B[0;32m     34\u001B[0m             policy_stable \u001B[38;5;241m=\u001B[39m \u001B[38;5;28;01mFalse\u001B[39;00m\n\u001B[0;32m     35\u001B[0m     \u001B[38;5;28;01mreturn\u001B[39;00m new_policy, policy_stable\n\u001B[1;32m---> 38\u001B[0m \u001B[38;5;28;01mdef\u001B[39;00m \u001B[38;5;21mpolicy_iteration\u001B[39m(P, S, A, R, gamma\u001B[38;5;241m=\u001B[39m\u001B[38;5;241m1.0\u001B[39m):\n\u001B[0;32m     39\u001B[0m     policy \u001B[38;5;241m=\u001B[39m np\u001B[38;5;241m.\u001B[39mones([\u001B[38;5;28mlen\u001B[39m(S), \u001B[38;5;28mlen\u001B[39m(A)]) \u001B[38;5;241m/\u001B[39m \u001B[38;5;28mlen\u001B[39m(A)  \u001B[38;5;66;03m# Initial random policy\u001B[39;00m\n\u001B[0;32m     40\u001B[0m     \u001B[38;5;28;01mwhile\u001B[39;00m \u001B[38;5;28;01mTrue\u001B[39;00m:\n",
      "File \u001B[1;32m~\\Documents\\PycharmProjects\\DeepReinforcementLearning\\algorithmes.py:12\u001B[0m, in \u001B[0;36mpolicy_evaluation\u001B[1;34m(policy, P, S, R, gamma, theta)\u001B[0m\n\u001B[0;32m     10\u001B[0m \u001B[38;5;28;01mfor\u001B[39;00m a, action_prob \u001B[38;5;129;01min\u001B[39;00m \u001B[38;5;28menumerate\u001B[39m(policy[s]):\n\u001B[0;32m     11\u001B[0m     \u001B[38;5;28;01mfor\u001B[39;00m s_p \u001B[38;5;129;01min\u001B[39;00m S:\n\u001B[1;32m---> 12\u001B[0m         \u001B[38;5;28;01mfor\u001B[39;00m r \u001B[38;5;129;01min\u001B[39;00m \u001B[38;5;28mrange\u001B[39m(\u001B[38;5;28mlen\u001B[39m(R)):\n\u001B[0;32m     13\u001B[0m             v \u001B[38;5;241m+\u001B[39m\u001B[38;5;241m=\u001B[39m action_prob \u001B[38;5;241m*\u001B[39m P[s, a, s_p, r] \u001B[38;5;241m*\u001B[39m (R[r] \u001B[38;5;241m+\u001B[39m gamma \u001B[38;5;241m*\u001B[39m V[s_p])\n\u001B[0;32m     14\u001B[0m delta \u001B[38;5;241m=\u001B[39m \u001B[38;5;28mmax\u001B[39m(delta, np\u001B[38;5;241m.\u001B[39mabs(v \u001B[38;5;241m-\u001B[39m V[s]))\n",
      "\u001B[1;31mTypeError\u001B[0m: 'NoneType' object is not subscriptable"
     ]
    }
   ],
   "execution_count": 20
  }
 ],
 "metadata": {
  "kernelspec": {
   "display_name": "Python 3",
   "language": "python",
   "name": "python3"
  },
  "language_info": {
   "codemirror_mode": {
    "name": "ipython",
    "version": 2
   },
   "file_extension": ".py",
   "mimetype": "text/x-python",
   "name": "python",
   "nbconvert_exporter": "python",
   "pygments_lexer": "ipython2",
   "version": "2.7.6"
  }
 },
 "nbformat": 4,
 "nbformat_minor": 5
}
